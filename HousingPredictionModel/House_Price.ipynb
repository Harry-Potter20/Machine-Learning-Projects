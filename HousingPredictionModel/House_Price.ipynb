{
 "cells": [
  {
   "cell_type": "code",
   "execution_count": 465,
   "id": "30f5b74f",
   "metadata": {},
   "outputs": [],
   "source": [
    "import numpy as np\n",
    "import pandas as pd\n",
    "import matplotlib.pyplot as plt\n",
    "import seaborn as sns"
   ]
  },
  {
   "cell_type": "code",
   "execution_count": 467,
   "id": "b2ba50e4",
   "metadata": {},
   "outputs": [],
   "source": [
    "train_data = pd.read_csv('train.csv')\n",
    "test_data = pd.read_csv('test.csv')"
   ]
  },
  {
   "cell_type": "code",
   "execution_count": 469,
   "id": "935da534",
   "metadata": {},
   "outputs": [
    {
     "data": {
      "text/html": [
       "<div>\n",
       "<style scoped>\n",
       "    .dataframe tbody tr th:only-of-type {\n",
       "        vertical-align: middle;\n",
       "    }\n",
       "\n",
       "    .dataframe tbody tr th {\n",
       "        vertical-align: top;\n",
       "    }\n",
       "\n",
       "    .dataframe thead th {\n",
       "        text-align: right;\n",
       "    }\n",
       "</style>\n",
       "<table border=\"1\" class=\"dataframe\">\n",
       "  <thead>\n",
       "    <tr style=\"text-align: right;\">\n",
       "      <th></th>\n",
       "      <th>Id</th>\n",
       "      <th>MSSubClass</th>\n",
       "      <th>MSZoning</th>\n",
       "      <th>LotFrontage</th>\n",
       "      <th>LotArea</th>\n",
       "      <th>Street</th>\n",
       "      <th>Alley</th>\n",
       "      <th>LotShape</th>\n",
       "      <th>LandContour</th>\n",
       "      <th>Utilities</th>\n",
       "      <th>...</th>\n",
       "      <th>PoolArea</th>\n",
       "      <th>PoolQC</th>\n",
       "      <th>Fence</th>\n",
       "      <th>MiscFeature</th>\n",
       "      <th>MiscVal</th>\n",
       "      <th>MoSold</th>\n",
       "      <th>YrSold</th>\n",
       "      <th>SaleType</th>\n",
       "      <th>SaleCondition</th>\n",
       "      <th>SalePrice</th>\n",
       "    </tr>\n",
       "  </thead>\n",
       "  <tbody>\n",
       "    <tr>\n",
       "      <th>0</th>\n",
       "      <td>1</td>\n",
       "      <td>60</td>\n",
       "      <td>RL</td>\n",
       "      <td>65.0</td>\n",
       "      <td>8450</td>\n",
       "      <td>Pave</td>\n",
       "      <td>NaN</td>\n",
       "      <td>Reg</td>\n",
       "      <td>Lvl</td>\n",
       "      <td>AllPub</td>\n",
       "      <td>...</td>\n",
       "      <td>0</td>\n",
       "      <td>NaN</td>\n",
       "      <td>NaN</td>\n",
       "      <td>NaN</td>\n",
       "      <td>0</td>\n",
       "      <td>2</td>\n",
       "      <td>2008</td>\n",
       "      <td>WD</td>\n",
       "      <td>Normal</td>\n",
       "      <td>208500</td>\n",
       "    </tr>\n",
       "    <tr>\n",
       "      <th>1</th>\n",
       "      <td>2</td>\n",
       "      <td>20</td>\n",
       "      <td>RL</td>\n",
       "      <td>80.0</td>\n",
       "      <td>9600</td>\n",
       "      <td>Pave</td>\n",
       "      <td>NaN</td>\n",
       "      <td>Reg</td>\n",
       "      <td>Lvl</td>\n",
       "      <td>AllPub</td>\n",
       "      <td>...</td>\n",
       "      <td>0</td>\n",
       "      <td>NaN</td>\n",
       "      <td>NaN</td>\n",
       "      <td>NaN</td>\n",
       "      <td>0</td>\n",
       "      <td>5</td>\n",
       "      <td>2007</td>\n",
       "      <td>WD</td>\n",
       "      <td>Normal</td>\n",
       "      <td>181500</td>\n",
       "    </tr>\n",
       "    <tr>\n",
       "      <th>2</th>\n",
       "      <td>3</td>\n",
       "      <td>60</td>\n",
       "      <td>RL</td>\n",
       "      <td>68.0</td>\n",
       "      <td>11250</td>\n",
       "      <td>Pave</td>\n",
       "      <td>NaN</td>\n",
       "      <td>IR1</td>\n",
       "      <td>Lvl</td>\n",
       "      <td>AllPub</td>\n",
       "      <td>...</td>\n",
       "      <td>0</td>\n",
       "      <td>NaN</td>\n",
       "      <td>NaN</td>\n",
       "      <td>NaN</td>\n",
       "      <td>0</td>\n",
       "      <td>9</td>\n",
       "      <td>2008</td>\n",
       "      <td>WD</td>\n",
       "      <td>Normal</td>\n",
       "      <td>223500</td>\n",
       "    </tr>\n",
       "    <tr>\n",
       "      <th>3</th>\n",
       "      <td>4</td>\n",
       "      <td>70</td>\n",
       "      <td>RL</td>\n",
       "      <td>60.0</td>\n",
       "      <td>9550</td>\n",
       "      <td>Pave</td>\n",
       "      <td>NaN</td>\n",
       "      <td>IR1</td>\n",
       "      <td>Lvl</td>\n",
       "      <td>AllPub</td>\n",
       "      <td>...</td>\n",
       "      <td>0</td>\n",
       "      <td>NaN</td>\n",
       "      <td>NaN</td>\n",
       "      <td>NaN</td>\n",
       "      <td>0</td>\n",
       "      <td>2</td>\n",
       "      <td>2006</td>\n",
       "      <td>WD</td>\n",
       "      <td>Abnorml</td>\n",
       "      <td>140000</td>\n",
       "    </tr>\n",
       "    <tr>\n",
       "      <th>4</th>\n",
       "      <td>5</td>\n",
       "      <td>60</td>\n",
       "      <td>RL</td>\n",
       "      <td>84.0</td>\n",
       "      <td>14260</td>\n",
       "      <td>Pave</td>\n",
       "      <td>NaN</td>\n",
       "      <td>IR1</td>\n",
       "      <td>Lvl</td>\n",
       "      <td>AllPub</td>\n",
       "      <td>...</td>\n",
       "      <td>0</td>\n",
       "      <td>NaN</td>\n",
       "      <td>NaN</td>\n",
       "      <td>NaN</td>\n",
       "      <td>0</td>\n",
       "      <td>12</td>\n",
       "      <td>2008</td>\n",
       "      <td>WD</td>\n",
       "      <td>Normal</td>\n",
       "      <td>250000</td>\n",
       "    </tr>\n",
       "  </tbody>\n",
       "</table>\n",
       "<p>5 rows × 81 columns</p>\n",
       "</div>"
      ],
      "text/plain": [
       "   Id  MSSubClass MSZoning  LotFrontage  LotArea Street Alley LotShape  \\\n",
       "0   1          60       RL         65.0     8450   Pave   NaN      Reg   \n",
       "1   2          20       RL         80.0     9600   Pave   NaN      Reg   \n",
       "2   3          60       RL         68.0    11250   Pave   NaN      IR1   \n",
       "3   4          70       RL         60.0     9550   Pave   NaN      IR1   \n",
       "4   5          60       RL         84.0    14260   Pave   NaN      IR1   \n",
       "\n",
       "  LandContour Utilities  ... PoolArea PoolQC Fence MiscFeature MiscVal MoSold  \\\n",
       "0         Lvl    AllPub  ...        0    NaN   NaN         NaN       0      2   \n",
       "1         Lvl    AllPub  ...        0    NaN   NaN         NaN       0      5   \n",
       "2         Lvl    AllPub  ...        0    NaN   NaN         NaN       0      9   \n",
       "3         Lvl    AllPub  ...        0    NaN   NaN         NaN       0      2   \n",
       "4         Lvl    AllPub  ...        0    NaN   NaN         NaN       0     12   \n",
       "\n",
       "  YrSold  SaleType  SaleCondition  SalePrice  \n",
       "0   2008        WD         Normal     208500  \n",
       "1   2007        WD         Normal     181500  \n",
       "2   2008        WD         Normal     223500  \n",
       "3   2006        WD        Abnorml     140000  \n",
       "4   2008        WD         Normal     250000  \n",
       "\n",
       "[5 rows x 81 columns]"
      ]
     },
     "execution_count": 469,
     "metadata": {},
     "output_type": "execute_result"
    }
   ],
   "source": [
    "train_data.head()"
   ]
  },
  {
   "cell_type": "code",
   "execution_count": 471,
   "id": "45b5fbb6",
   "metadata": {},
   "outputs": [
    {
     "data": {
      "text/plain": [
       "Id                 0\n",
       "MSSubClass         0\n",
       "MSZoning           0\n",
       "LotFrontage      259\n",
       "LotArea            0\n",
       "                ... \n",
       "MoSold             0\n",
       "YrSold             0\n",
       "SaleType           0\n",
       "SaleCondition      0\n",
       "SalePrice          0\n",
       "Length: 81, dtype: int64"
      ]
     },
     "execution_count": 471,
     "metadata": {},
     "output_type": "execute_result"
    }
   ],
   "source": [
    "#determine total number of columns with no data in training dataset\n",
    "train_data.isnull().sum()"
   ]
  },
  {
   "cell_type": "code",
   "execution_count": 473,
   "id": "880b7fcc",
   "metadata": {},
   "outputs": [],
   "source": [
    "#determine total number of columns with no data in test dataset\n",
    "test_data.isnull().sum()\n",
    "test_data_ids = test_data['Id']\n",
    "test_data = test_data.drop('Id', axis=1)"
   ]
  },
  {
   "cell_type": "code",
   "execution_count": 475,
   "id": "09ca9028",
   "metadata": {},
   "outputs": [],
   "source": [
    "#differentiate normal from abnormal sale condition explicitly\n",
    "train_data['SaleCondition'] = train_data['SaleCondition'].apply(lambda x: 1 if x == 'Normal' else 0)\n",
    "test_data['SaleCondition'] = test_data['SaleCondition'].apply(lambda x: 1 if x == 'Normal' else 0)"
   ]
  },
  {
   "cell_type": "code",
   "execution_count": 477,
   "id": "aeeff9f3-dae7-4289-be26-79585c59f36a",
   "metadata": {},
   "outputs": [],
   "source": [
    "#fix the missing column\n",
    "train_data['LotFrontage'] = train_data['LotFrontage'].fillna(np.mean(train_data['LotFrontage']))\n",
    "test_data['LotFrontage'] = test_data['LotFrontage'].fillna(np.mean(test_data['LotFrontage']))"
   ]
  },
  {
   "cell_type": "code",
   "execution_count": 479,
   "id": "6c9506a2-2322-458c-b4a0-08639c4e3db3",
   "metadata": {},
   "outputs": [
    {
     "name": "stderr",
     "output_type": "stream",
     "text": [
      "/var/folders/h8/19h5sq255tvd7309yghg4ycr0000gn/T/ipykernel_65890/2789208273.py:1: FutureWarning: A value is trying to be set on a copy of a DataFrame or Series through chained assignment using an inplace method.\n",
      "The behavior will change in pandas 3.0. This inplace method will never work because the intermediate object on which we are setting values always behaves as a copy.\n",
      "\n",
      "For example, when doing 'df[col].method(value, inplace=True)', try using 'df.method({col: value}, inplace=True)' or df[col] = df[col].method(value) instead, to perform the operation inplace on the original object.\n",
      "\n",
      "\n",
      "  test_data.MSZoning.fillna(value='RL', axis=0, inplace=True)\n"
     ]
    }
   ],
   "source": [
    "test_data.MSZoning.fillna(value='RL', axis=0, inplace=True)"
   ]
  },
  {
   "cell_type": "code",
   "execution_count": 481,
   "id": "bcb6673b-c28e-4e3e-9079-559d4bfa5d3c",
   "metadata": {},
   "outputs": [
    {
     "data": {
      "text/plain": [
       "MSSubClass       0\n",
       "MSZoning         0\n",
       "LotFrontage      0\n",
       "LotArea          0\n",
       "Street           0\n",
       "                ..\n",
       "MiscVal          0\n",
       "MoSold           0\n",
       "YrSold           0\n",
       "SaleType         1\n",
       "SaleCondition    0\n",
       "Length: 79, dtype: int64"
      ]
     },
     "execution_count": 481,
     "metadata": {},
     "output_type": "execute_result"
    }
   ],
   "source": [
    "test_data.isnull().sum()"
   ]
  },
  {
   "cell_type": "code",
   "execution_count": 483,
   "id": "13dc1510-00e8-4d76-8c49-9d38530f7468",
   "metadata": {},
   "outputs": [
    {
     "name": "stderr",
     "output_type": "stream",
     "text": [
      "/var/folders/h8/19h5sq255tvd7309yghg4ycr0000gn/T/ipykernel_65890/514028463.py:1: FutureWarning: A value is trying to be set on a copy of a DataFrame or Series through chained assignment using an inplace method.\n",
      "The behavior will change in pandas 3.0. This inplace method will never work because the intermediate object on which we are setting values always behaves as a copy.\n",
      "\n",
      "For example, when doing 'df[col].method(value, inplace=True)', try using 'df.method({col: value}, inplace=True)' or df[col] = df[col].method(value) instead, to perform the operation inplace on the original object.\n",
      "\n",
      "\n",
      "  test_data.SaleType.fillna(value='WD', axis=0, inplace=True)\n"
     ]
    }
   ],
   "source": [
    "test_data.SaleType.fillna(value='WD', axis=0, inplace=True)"
   ]
  },
  {
   "cell_type": "code",
   "execution_count": 485,
   "id": "ce44dc69-33e8-4d8b-86d7-f628daa790be",
   "metadata": {},
   "outputs": [
    {
     "name": "stdout",
     "output_type": "stream",
     "text": [
      "<class 'pandas.core.frame.DataFrame'>\n",
      "RangeIndex: 1460 entries, 0 to 1459\n",
      "Data columns (total 81 columns):\n",
      " #   Column         Non-Null Count  Dtype  \n",
      "---  ------         --------------  -----  \n",
      " 0   Id             1460 non-null   int64  \n",
      " 1   MSSubClass     1460 non-null   int64  \n",
      " 2   MSZoning       1460 non-null   object \n",
      " 3   LotFrontage    1460 non-null   float64\n",
      " 4   LotArea        1460 non-null   int64  \n",
      " 5   Street         1460 non-null   object \n",
      " 6   Alley          91 non-null     object \n",
      " 7   LotShape       1460 non-null   object \n",
      " 8   LandContour    1460 non-null   object \n",
      " 9   Utilities      1460 non-null   object \n",
      " 10  LotConfig      1460 non-null   object \n",
      " 11  LandSlope      1460 non-null   object \n",
      " 12  Neighborhood   1460 non-null   object \n",
      " 13  Condition1     1460 non-null   object \n",
      " 14  Condition2     1460 non-null   object \n",
      " 15  BldgType       1460 non-null   object \n",
      " 16  HouseStyle     1460 non-null   object \n",
      " 17  OverallQual    1460 non-null   int64  \n",
      " 18  OverallCond    1460 non-null   int64  \n",
      " 19  YearBuilt      1460 non-null   int64  \n",
      " 20  YearRemodAdd   1460 non-null   int64  \n",
      " 21  RoofStyle      1460 non-null   object \n",
      " 22  RoofMatl       1460 non-null   object \n",
      " 23  Exterior1st    1460 non-null   object \n",
      " 24  Exterior2nd    1460 non-null   object \n",
      " 25  MasVnrType     588 non-null    object \n",
      " 26  MasVnrArea     1452 non-null   float64\n",
      " 27  ExterQual      1460 non-null   object \n",
      " 28  ExterCond      1460 non-null   object \n",
      " 29  Foundation     1460 non-null   object \n",
      " 30  BsmtQual       1423 non-null   object \n",
      " 31  BsmtCond       1423 non-null   object \n",
      " 32  BsmtExposure   1422 non-null   object \n",
      " 33  BsmtFinType1   1423 non-null   object \n",
      " 34  BsmtFinSF1     1460 non-null   int64  \n",
      " 35  BsmtFinType2   1422 non-null   object \n",
      " 36  BsmtFinSF2     1460 non-null   int64  \n",
      " 37  BsmtUnfSF      1460 non-null   int64  \n",
      " 38  TotalBsmtSF    1460 non-null   int64  \n",
      " 39  Heating        1460 non-null   object \n",
      " 40  HeatingQC      1460 non-null   object \n",
      " 41  CentralAir     1460 non-null   object \n",
      " 42  Electrical     1459 non-null   object \n",
      " 43  1stFlrSF       1460 non-null   int64  \n",
      " 44  2ndFlrSF       1460 non-null   int64  \n",
      " 45  LowQualFinSF   1460 non-null   int64  \n",
      " 46  GrLivArea      1460 non-null   int64  \n",
      " 47  BsmtFullBath   1460 non-null   int64  \n",
      " 48  BsmtHalfBath   1460 non-null   int64  \n",
      " 49  FullBath       1460 non-null   int64  \n",
      " 50  HalfBath       1460 non-null   int64  \n",
      " 51  BedroomAbvGr   1460 non-null   int64  \n",
      " 52  KitchenAbvGr   1460 non-null   int64  \n",
      " 53  KitchenQual    1460 non-null   object \n",
      " 54  TotRmsAbvGrd   1460 non-null   int64  \n",
      " 55  Functional     1460 non-null   object \n",
      " 56  Fireplaces     1460 non-null   int64  \n",
      " 57  FireplaceQu    770 non-null    object \n",
      " 58  GarageType     1379 non-null   object \n",
      " 59  GarageYrBlt    1379 non-null   float64\n",
      " 60  GarageFinish   1379 non-null   object \n",
      " 61  GarageCars     1460 non-null   int64  \n",
      " 62  GarageArea     1460 non-null   int64  \n",
      " 63  GarageQual     1379 non-null   object \n",
      " 64  GarageCond     1379 non-null   object \n",
      " 65  PavedDrive     1460 non-null   object \n",
      " 66  WoodDeckSF     1460 non-null   int64  \n",
      " 67  OpenPorchSF    1460 non-null   int64  \n",
      " 68  EnclosedPorch  1460 non-null   int64  \n",
      " 69  3SsnPorch      1460 non-null   int64  \n",
      " 70  ScreenPorch    1460 non-null   int64  \n",
      " 71  PoolArea       1460 non-null   int64  \n",
      " 72  PoolQC         7 non-null      object \n",
      " 73  Fence          281 non-null    object \n",
      " 74  MiscFeature    54 non-null     object \n",
      " 75  MiscVal        1460 non-null   int64  \n",
      " 76  MoSold         1460 non-null   int64  \n",
      " 77  YrSold         1460 non-null   int64  \n",
      " 78  SaleType       1460 non-null   object \n",
      " 79  SaleCondition  1460 non-null   int64  \n",
      " 80  SalePrice      1460 non-null   int64  \n",
      "dtypes: float64(3), int64(36), object(42)\n",
      "memory usage: 924.0+ KB\n"
     ]
    }
   ],
   "source": [
    "test_data.isnull().sum()\n",
    "train_data.info()"
   ]
  },
  {
   "cell_type": "code",
   "execution_count": 487,
   "id": "f0fd1664-2f19-4782-9398-4ba297d75757",
   "metadata": {},
   "outputs": [],
   "source": [
    "# Function to drop stuff\n",
    "def drop_columns(df, column):\n",
    "    for col in column:\n",
    "        df = df.drop(col, axis=1)\n",
    "    return df\n",
    "column = ['Alley', 'MasVnrType', 'PoolQC', 'FireplaceQu', 'Fence', 'MiscFeature', 'BsmtQual', 'BsmtCond', 'BsmtExposure', 'BsmtFinType1', 'BsmtFinType2', 'GarageFinish', 'GarageYrBlt', 'GarageCond']\n",
    "train_data = drop_columns(train_data, column)\n",
    "test_data = drop_columns(test_data, column)"
   ]
  },
  {
   "cell_type": "code",
   "execution_count": 489,
   "id": "47f811da-1071-4202-be51-4fb6d7281f34",
   "metadata": {},
   "outputs": [
    {
     "name": "stdout",
     "output_type": "stream",
     "text": [
      "['MasVnrArea', 'Electrical', 'GarageType', 'GarageQual']\n"
     ]
    }
   ],
   "source": [
    "columns_with_null = train_data.columns[train_data.isnull().any()].tolist()\n",
    "print(columns_with_null)"
   ]
  },
  {
   "cell_type": "code",
   "execution_count": 491,
   "id": "ac2593d3-4041-4819-8f2e-12f51669bd62",
   "metadata": {},
   "outputs": [],
   "source": [
    "train_data['MasVnrArea'].value_counts()\n",
    "train_data['MasVnrArea'] = train_data['MasVnrArea'].fillna(np.mean(train_data['MasVnrArea']))\n",
    "test_data['MasVnrArea'] = test_data['MasVnrArea'].fillna(np.mean(test_data['MasVnrArea']))\n"
   ]
  },
  {
   "cell_type": "code",
   "execution_count": 493,
   "id": "d2303e99-1449-46e0-bc14-64405150a1d1",
   "metadata": {},
   "outputs": [
    {
     "name": "stderr",
     "output_type": "stream",
     "text": [
      "/var/folders/h8/19h5sq255tvd7309yghg4ycr0000gn/T/ipykernel_65890/2963238808.py:2: FutureWarning: A value is trying to be set on a copy of a DataFrame or Series through chained assignment using an inplace method.\n",
      "The behavior will change in pandas 3.0. This inplace method will never work because the intermediate object on which we are setting values always behaves as a copy.\n",
      "\n",
      "For example, when doing 'df[col].method(value, inplace=True)', try using 'df.method({col: value}, inplace=True)' or df[col] = df[col].method(value) instead, to perform the operation inplace on the original object.\n",
      "\n",
      "\n",
      "  train_data.Electrical.fillna(value='SBrkr', axis=0, inplace=True)\n",
      "/var/folders/h8/19h5sq255tvd7309yghg4ycr0000gn/T/ipykernel_65890/2963238808.py:3: FutureWarning: A value is trying to be set on a copy of a DataFrame or Series through chained assignment using an inplace method.\n",
      "The behavior will change in pandas 3.0. This inplace method will never work because the intermediate object on which we are setting values always behaves as a copy.\n",
      "\n",
      "For example, when doing 'df[col].method(value, inplace=True)', try using 'df.method({col: value}, inplace=True)' or df[col] = df[col].method(value) instead, to perform the operation inplace on the original object.\n",
      "\n",
      "\n",
      "  test_data.Electrical.fillna(value='SBrkr', axis=0, inplace=True)\n"
     ]
    }
   ],
   "source": [
    "train_data.Electrical.value_counts()\n",
    "train_data.Electrical.fillna(value='SBrkr', axis=0, inplace=True)\n",
    "test_data.Electrical.fillna(value='SBrkr', axis=0, inplace=True)"
   ]
  },
  {
   "cell_type": "code",
   "execution_count": 495,
   "id": "96fece56-a53d-4df0-b12c-230cd44b11d6",
   "metadata": {},
   "outputs": [
    {
     "name": "stderr",
     "output_type": "stream",
     "text": [
      "/var/folders/h8/19h5sq255tvd7309yghg4ycr0000gn/T/ipykernel_65890/2542037782.py:2: FutureWarning: A value is trying to be set on a copy of a DataFrame or Series through chained assignment using an inplace method.\n",
      "The behavior will change in pandas 3.0. This inplace method will never work because the intermediate object on which we are setting values always behaves as a copy.\n",
      "\n",
      "For example, when doing 'df[col].method(value, inplace=True)', try using 'df.method({col: value}, inplace=True)' or df[col] = df[col].method(value) instead, to perform the operation inplace on the original object.\n",
      "\n",
      "\n",
      "  train_data.GarageType.fillna(value='Attchd', axis=0, inplace=True)\n",
      "/var/folders/h8/19h5sq255tvd7309yghg4ycr0000gn/T/ipykernel_65890/2542037782.py:3: FutureWarning: A value is trying to be set on a copy of a DataFrame or Series through chained assignment using an inplace method.\n",
      "The behavior will change in pandas 3.0. This inplace method will never work because the intermediate object on which we are setting values always behaves as a copy.\n",
      "\n",
      "For example, when doing 'df[col].method(value, inplace=True)', try using 'df.method({col: value}, inplace=True)' or df[col] = df[col].method(value) instead, to perform the operation inplace on the original object.\n",
      "\n",
      "\n",
      "  test_data.GarageType.fillna(value='Attchd', axis=0, inplace=True)\n"
     ]
    }
   ],
   "source": [
    "train_data.GarageType.value_counts()\n",
    "train_data.GarageType.fillna(value='Attchd', axis=0, inplace=True)\n",
    "test_data.GarageType.fillna(value='Attchd', axis=0, inplace=True)"
   ]
  },
  {
   "cell_type": "code",
   "execution_count": 497,
   "id": "d3155326-2f16-459b-8456-06f1e6ea7ccd",
   "metadata": {},
   "outputs": [
    {
     "name": "stderr",
     "output_type": "stream",
     "text": [
      "/var/folders/h8/19h5sq255tvd7309yghg4ycr0000gn/T/ipykernel_65890/3382969096.py:2: FutureWarning: A value is trying to be set on a copy of a DataFrame or Series through chained assignment using an inplace method.\n",
      "The behavior will change in pandas 3.0. This inplace method will never work because the intermediate object on which we are setting values always behaves as a copy.\n",
      "\n",
      "For example, when doing 'df[col].method(value, inplace=True)', try using 'df.method({col: value}, inplace=True)' or df[col] = df[col].method(value) instead, to perform the operation inplace on the original object.\n",
      "\n",
      "\n",
      "  train_data.GarageQual.fillna(value='TA', axis=0, inplace=True)\n",
      "/var/folders/h8/19h5sq255tvd7309yghg4ycr0000gn/T/ipykernel_65890/3382969096.py:3: FutureWarning: A value is trying to be set on a copy of a DataFrame or Series through chained assignment using an inplace method.\n",
      "The behavior will change in pandas 3.0. This inplace method will never work because the intermediate object on which we are setting values always behaves as a copy.\n",
      "\n",
      "For example, when doing 'df[col].method(value, inplace=True)', try using 'df.method({col: value}, inplace=True)' or df[col] = df[col].method(value) instead, to perform the operation inplace on the original object.\n",
      "\n",
      "\n",
      "  test_data.GarageQual.fillna(value='TA', axis=0, inplace=True)\n"
     ]
    }
   ],
   "source": [
    "train_data.GarageQual.value_counts()\n",
    "train_data.GarageQual.fillna(value='TA', axis=0, inplace=True)\n",
    "test_data.GarageQual.fillna(value='TA', axis=0, inplace=True)"
   ]
  },
  {
   "cell_type": "code",
   "execution_count": 499,
   "id": "1c92ac78-2c09-4ee4-b04a-856b18dc32fd",
   "metadata": {},
   "outputs": [],
   "source": [
    "# Lets split our data first before encoding\n",
    "X = train_data.drop(['SalePrice', 'Id'], axis=1)\n",
    "y = train_data['SalePrice']"
   ]
  },
  {
   "cell_type": "code",
   "execution_count": 501,
   "id": "b3515729-6f9f-46f1-b1b0-74eb39126da6",
   "metadata": {},
   "outputs": [
    {
     "name": "stdout",
     "output_type": "stream",
     "text": [
      "<class 'pandas.core.frame.DataFrame'>\n",
      "RangeIndex: 1459 entries, 0 to 1458\n",
      "Data columns (total 65 columns):\n",
      " #   Column         Non-Null Count  Dtype  \n",
      "---  ------         --------------  -----  \n",
      " 0   MSSubClass     1459 non-null   int64  \n",
      " 1   MSZoning       1459 non-null   object \n",
      " 2   LotFrontage    1459 non-null   float64\n",
      " 3   LotArea        1459 non-null   int64  \n",
      " 4   Street         1459 non-null   object \n",
      " 5   LotShape       1459 non-null   object \n",
      " 6   LandContour    1459 non-null   object \n",
      " 7   Utilities      1459 non-null   object \n",
      " 8   LotConfig      1459 non-null   object \n",
      " 9   LandSlope      1459 non-null   object \n",
      " 10  Neighborhood   1459 non-null   object \n",
      " 11  Condition1     1459 non-null   object \n",
      " 12  Condition2     1459 non-null   object \n",
      " 13  BldgType       1459 non-null   object \n",
      " 14  HouseStyle     1459 non-null   object \n",
      " 15  OverallQual    1459 non-null   int64  \n",
      " 16  OverallCond    1459 non-null   int64  \n",
      " 17  YearBuilt      1459 non-null   int64  \n",
      " 18  YearRemodAdd   1459 non-null   int64  \n",
      " 19  RoofStyle      1459 non-null   object \n",
      " 20  RoofMatl       1459 non-null   object \n",
      " 21  Exterior1st    1459 non-null   object \n",
      " 22  Exterior2nd    1459 non-null   object \n",
      " 23  MasVnrArea     1459 non-null   float64\n",
      " 24  ExterQual      1459 non-null   object \n",
      " 25  ExterCond      1459 non-null   object \n",
      " 26  Foundation     1459 non-null   object \n",
      " 27  BsmtFinSF1     1459 non-null   float64\n",
      " 28  BsmtFinSF2     1459 non-null   float64\n",
      " 29  BsmtUnfSF      1459 non-null   float64\n",
      " 30  TotalBsmtSF    1459 non-null   float64\n",
      " 31  Heating        1459 non-null   object \n",
      " 32  HeatingQC      1459 non-null   object \n",
      " 33  CentralAir     1459 non-null   object \n",
      " 34  Electrical     1459 non-null   object \n",
      " 35  1stFlrSF       1459 non-null   int64  \n",
      " 36  2ndFlrSF       1459 non-null   int64  \n",
      " 37  LowQualFinSF   1459 non-null   int64  \n",
      " 38  GrLivArea      1459 non-null   int64  \n",
      " 39  BsmtFullBath   1459 non-null   float64\n",
      " 40  BsmtHalfBath   1459 non-null   float64\n",
      " 41  FullBath       1459 non-null   int64  \n",
      " 42  HalfBath       1459 non-null   int64  \n",
      " 43  BedroomAbvGr   1459 non-null   int64  \n",
      " 44  KitchenAbvGr   1459 non-null   int64  \n",
      " 45  KitchenQual    1459 non-null   object \n",
      " 46  TotRmsAbvGrd   1459 non-null   int64  \n",
      " 47  Functional     1459 non-null   object \n",
      " 48  Fireplaces     1459 non-null   int64  \n",
      " 49  GarageType     1459 non-null   object \n",
      " 50  GarageCars     1459 non-null   float64\n",
      " 51  GarageArea     1459 non-null   float64\n",
      " 52  GarageQual     1459 non-null   object \n",
      " 53  PavedDrive     1459 non-null   object \n",
      " 54  WoodDeckSF     1459 non-null   int64  \n",
      " 55  OpenPorchSF    1459 non-null   int64  \n",
      " 56  EnclosedPorch  1459 non-null   int64  \n",
      " 57  3SsnPorch      1459 non-null   int64  \n",
      " 58  ScreenPorch    1459 non-null   int64  \n",
      " 59  PoolArea       1459 non-null   int64  \n",
      " 60  MiscVal        1459 non-null   int64  \n",
      " 61  MoSold         1459 non-null   int64  \n",
      " 62  YrSold         1459 non-null   int64  \n",
      " 63  SaleType       1459 non-null   object \n",
      " 64  SaleCondition  1459 non-null   int64  \n",
      "dtypes: float64(10), int64(26), object(29)\n",
      "memory usage: 741.0+ KB\n",
      "<class 'pandas.core.frame.DataFrame'>\n",
      "RangeIndex: 1460 entries, 0 to 1459\n",
      "Data columns (total 65 columns):\n",
      " #   Column         Non-Null Count  Dtype  \n",
      "---  ------         --------------  -----  \n",
      " 0   MSSubClass     1460 non-null   int64  \n",
      " 1   MSZoning       1460 non-null   object \n",
      " 2   LotFrontage    1460 non-null   float64\n",
      " 3   LotArea        1460 non-null   int64  \n",
      " 4   Street         1460 non-null   object \n",
      " 5   LotShape       1460 non-null   object \n",
      " 6   LandContour    1460 non-null   object \n",
      " 7   Utilities      1460 non-null   object \n",
      " 8   LotConfig      1460 non-null   object \n",
      " 9   LandSlope      1460 non-null   object \n",
      " 10  Neighborhood   1460 non-null   object \n",
      " 11  Condition1     1460 non-null   object \n",
      " 12  Condition2     1460 non-null   object \n",
      " 13  BldgType       1460 non-null   object \n",
      " 14  HouseStyle     1460 non-null   object \n",
      " 15  OverallQual    1460 non-null   int64  \n",
      " 16  OverallCond    1460 non-null   int64  \n",
      " 17  YearBuilt      1460 non-null   int64  \n",
      " 18  YearRemodAdd   1460 non-null   int64  \n",
      " 19  RoofStyle      1460 non-null   object \n",
      " 20  RoofMatl       1460 non-null   object \n",
      " 21  Exterior1st    1460 non-null   object \n",
      " 22  Exterior2nd    1460 non-null   object \n",
      " 23  MasVnrArea     1460 non-null   float64\n",
      " 24  ExterQual      1460 non-null   object \n",
      " 25  ExterCond      1460 non-null   object \n",
      " 26  Foundation     1460 non-null   object \n",
      " 27  BsmtFinSF1     1460 non-null   int64  \n",
      " 28  BsmtFinSF2     1460 non-null   int64  \n",
      " 29  BsmtUnfSF      1460 non-null   int64  \n",
      " 30  TotalBsmtSF    1460 non-null   int64  \n",
      " 31  Heating        1460 non-null   object \n",
      " 32  HeatingQC      1460 non-null   object \n",
      " 33  CentralAir     1460 non-null   object \n",
      " 34  Electrical     1460 non-null   object \n",
      " 35  1stFlrSF       1460 non-null   int64  \n",
      " 36  2ndFlrSF       1460 non-null   int64  \n",
      " 37  LowQualFinSF   1460 non-null   int64  \n",
      " 38  GrLivArea      1460 non-null   int64  \n",
      " 39  BsmtFullBath   1460 non-null   int64  \n",
      " 40  BsmtHalfBath   1460 non-null   int64  \n",
      " 41  FullBath       1460 non-null   int64  \n",
      " 42  HalfBath       1460 non-null   int64  \n",
      " 43  BedroomAbvGr   1460 non-null   int64  \n",
      " 44  KitchenAbvGr   1460 non-null   int64  \n",
      " 45  KitchenQual    1460 non-null   object \n",
      " 46  TotRmsAbvGrd   1460 non-null   int64  \n",
      " 47  Functional     1460 non-null   object \n",
      " 48  Fireplaces     1460 non-null   int64  \n",
      " 49  GarageType     1460 non-null   object \n",
      " 50  GarageCars     1460 non-null   int64  \n",
      " 51  GarageArea     1460 non-null   int64  \n",
      " 52  GarageQual     1460 non-null   object \n",
      " 53  PavedDrive     1460 non-null   object \n",
      " 54  WoodDeckSF     1460 non-null   int64  \n",
      " 55  OpenPorchSF    1460 non-null   int64  \n",
      " 56  EnclosedPorch  1460 non-null   int64  \n",
      " 57  3SsnPorch      1460 non-null   int64  \n",
      " 58  ScreenPorch    1460 non-null   int64  \n",
      " 59  PoolArea       1460 non-null   int64  \n",
      " 60  MiscVal        1460 non-null   int64  \n",
      " 61  MoSold         1460 non-null   int64  \n",
      " 62  YrSold         1460 non-null   int64  \n",
      " 63  SaleType       1460 non-null   object \n",
      " 64  SaleCondition  1460 non-null   int64  \n",
      "dtypes: float64(2), int64(34), object(29)\n",
      "memory usage: 741.5+ KB\n"
     ]
    },
    {
     "name": "stderr",
     "output_type": "stream",
     "text": [
      "/var/folders/h8/19h5sq255tvd7309yghg4ycr0000gn/T/ipykernel_65890/2548661773.py:6: FutureWarning: A value is trying to be set on a copy of a DataFrame or Series through chained assignment using an inplace method.\n",
      "The behavior will change in pandas 3.0. This inplace method will never work because the intermediate object on which we are setting values always behaves as a copy.\n",
      "\n",
      "For example, when doing 'df[col].method(value, inplace=True)', try using 'df.method({col: value}, inplace=True)' or df[col] = df[col].method(value) instead, to perform the operation inplace on the original object.\n",
      "\n",
      "\n",
      "  df[column].fillna(df[column].mean(), inplace=True)\n",
      "/var/folders/h8/19h5sq255tvd7309yghg4ycr0000gn/T/ipykernel_65890/2548661773.py:9: FutureWarning: A value is trying to be set on a copy of a DataFrame or Series through chained assignment using an inplace method.\n",
      "The behavior will change in pandas 3.0. This inplace method will never work because the intermediate object on which we are setting values always behaves as a copy.\n",
      "\n",
      "For example, when doing 'df[col].method(value, inplace=True)', try using 'df.method({col: value}, inplace=True)' or df[col] = df[col].method(value) instead, to perform the operation inplace on the original object.\n",
      "\n",
      "\n",
      "  df[column].fillna(df[column].mode()[0], inplace=True)\n"
     ]
    }
   ],
   "source": [
    "\n",
    "# Function to fill all null values\n",
    "def fill_nulls(df):\n",
    "    for column in df.columns:\n",
    "        if df[column].dtype in ['int64', 'float64']:\n",
    "            # Fill numeric columns with mean\n",
    "            df[column].fillna(df[column].mean(), inplace=True)\n",
    "        elif df[column].dtype == 'object':\n",
    "            # Fill categorical columns with the mode\n",
    "            df[column].fillna(df[column].mode()[0], inplace=True)\n",
    "    return df\n",
    "test_data = fill_nulls(test_data)\n",
    "test_data.info()\n",
    "X.info()"
   ]
  },
  {
   "cell_type": "code",
   "execution_count": 503,
   "id": "0229eee1-524e-4103-9257-62e87725dd01",
   "metadata": {},
   "outputs": [],
   "source": [
    "# Concatenate dataframes in a row-wise manner\n",
    "final_df = pd.concat([X, test_data], axis=0)"
   ]
  },
  {
   "cell_type": "code",
   "execution_count": 507,
   "id": "013819c0-e80f-40ba-b998-f89e53fd8dd1",
   "metadata": {},
   "outputs": [
    {
     "data": {
      "text/plain": [
       "(2919, 65)"
      ]
     },
     "execution_count": 507,
     "metadata": {},
     "output_type": "execute_result"
    }
   ],
   "source": [
    "final_df.shape"
   ]
  },
  {
   "cell_type": "code",
   "execution_count": 547,
   "id": "c5a5bf0e-10c6-484a-b25a-a818ff52f1f2",
   "metadata": {},
   "outputs": [
    {
     "data": {
      "text/plain": [
       "(2919, 228)"
      ]
     },
     "execution_count": 547,
     "metadata": {},
     "output_type": "execute_result"
    }
   ],
   "source": [
    "# Lets encode categorical features\n",
    "def encode_categorical(df): \n",
    "    \"\"\"\n",
    "    Encodes categorical columns within the given dataframe using one-hot encoding\n",
    "\n",
    "    Parameters:\n",
    "    - df: the dataframe to be manipulated\n",
    "\n",
    "    Returns:\n",
    "    df_encoded - dataframe with encoded categorical columns\n",
    "    \n",
    "    \"\"\"\n",
    "    # Work on a copy of the dataframe\n",
    "    df = df.copy()\n",
    "    \n",
    "    # Identify categorical columns\n",
    "    categorical_columns = df.select_dtypes(include=['object']).columns\n",
    "\n",
    "    encoded_df = pd.get_dummies(df, columns=categorical_columns, drop_first=False)            \n",
    "            \n",
    "\n",
    "    return encoded_df\n",
    "main_df = encode_categorical(final_df)\n",
    "main_df.shape"
   ]
  },
  {
   "cell_type": "code",
   "execution_count": 557,
   "id": "2dd630a9-29b8-4850-937a-6d5482cfc73c",
   "metadata": {},
   "outputs": [
    {
     "name": "stdout",
     "output_type": "stream",
     "text": [
      "<class 'pandas.core.frame.DataFrame'>\n",
      "Index: 2919 entries, 0 to 1458\n",
      "Columns: 228 entries, MSSubClass to SaleType_WD\n",
      "dtypes: bool(192), float64(10), int64(26)\n",
      "memory usage: 1.4 MB\n"
     ]
    }
   ],
   "source": [
    "main_df.info()"
   ]
  },
  {
   "cell_type": "code",
   "execution_count": 559,
   "id": "9694485b-c6e1-4078-8253-95e1640f0a94",
   "metadata": {},
   "outputs": [
    {
     "data": {
      "text/plain": [
       "(1459, 228)"
      ]
     },
     "execution_count": 559,
     "metadata": {},
     "output_type": "execute_result"
    }
   ],
   "source": [
    "# Split into equal parts\n",
    "df_Train = main_df.iloc[:1460,:]\n",
    "df_Test = main_df.iloc[1460:,:]\n",
    "\n",
    "df_Test.shape"
   ]
  },
  {
   "cell_type": "code",
   "execution_count": 561,
   "id": "54111977-332d-4f5b-aed8-70e63259a8dd",
   "metadata": {},
   "outputs": [
    {
     "name": "stdout",
     "output_type": "stream",
     "text": [
      "MSE: 967944670.95\n",
      "R2: 0.87\n"
     ]
    }
   ],
   "source": [
    "# Import random forest regressor\n",
    "from sklearn.ensemble import RandomForestRegressor\n",
    "from sklearn.model_selection import train_test_split\n",
    "from sklearn.metrics import mean_squared_error, r2_score\n",
    "\n",
    "# Split the data\n",
    "X_train, X_test, y_train, y_test = train_test_split(df_Train, y, test_size=0.33, random_state=42)\n",
    "\n",
    "# Initialize the model\n",
    "rf = RandomForestRegressor(n_estimators=200, random_state=42)\n",
    "\n",
    "# Fit the model\n",
    "rf.fit(X_train, y_train)\n",
    "\n",
    "# Predict\n",
    "y_hat = rf.predict(X_test)\n",
    "\n",
    "# Mean squared error\n",
    "mse = mean_squared_error(y_test, y_hat)\n",
    "print(f\"MSE: {mse:.2f}\")\n",
    "\n",
    "#r2 score\n",
    "r2 = r2_score(y_test, y_hat)\n",
    "print(f\"R2: {r2:.2f}\")"
   ]
  },
  {
   "cell_type": "code",
   "execution_count": 563,
   "id": "9f0e40ae-8586-4813-86d9-df14449acf17",
   "metadata": {},
   "outputs": [],
   "source": [
    "Prices = rf.predict(df_Test)"
   ]
  },
  {
   "cell_type": "code",
   "execution_count": 565,
   "id": "9dd6a791-1967-477b-98ca-cc4411e11407",
   "metadata": {},
   "outputs": [],
   "source": [
    "data = pd.DataFrame({'Id':test_data_ids.values, \n",
    "                     'Price':Prices\n",
    "    \n",
    "                    })"
   ]
  },
  {
   "cell_type": "code",
   "execution_count": 569,
   "id": "d0f2a107-6aaf-4092-92d5-a347dc5851fe",
   "metadata": {},
   "outputs": [],
   "source": [
    "# Save to CSV file\n",
    "data.to_csv('HousePriceSubmission.csv', index=False)"
   ]
  },
  {
   "cell_type": "code",
   "execution_count": null,
   "id": "b66ec96f-0355-4c5b-918f-870690bbd19d",
   "metadata": {},
   "outputs": [],
   "source": []
  }
 ],
 "metadata": {
  "kernelspec": {
   "display_name": "Python 3 (ipykernel)",
   "language": "python",
   "name": "python3"
  },
  "language_info": {
   "codemirror_mode": {
    "name": "ipython",
    "version": 3
   },
   "file_extension": ".py",
   "mimetype": "text/x-python",
   "name": "python",
   "nbconvert_exporter": "python",
   "pygments_lexer": "ipython3",
   "version": "3.12.4"
  }
 },
 "nbformat": 4,
 "nbformat_minor": 5
}
